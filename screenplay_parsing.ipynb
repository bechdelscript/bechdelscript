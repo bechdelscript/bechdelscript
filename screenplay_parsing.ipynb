{
 "cells": [
  {
   "cell_type": "code",
   "execution_count": 46,
   "metadata": {},
   "outputs": [],
   "source": [
    "import os\n",
    "from random import choice, seed\n",
    "from tqdm import tqdm\n",
    "import matplotlib.pyplot as plt \n",
    "import numpy as np\n",
    "from collections import Counter\n",
    "\n",
    "folder_name = \"data/input/scripts_imsdb\"\n",
    "screenplay_name = choice(os.listdir(folder_name))"
   ]
  },
  {
   "cell_type": "code",
   "execution_count": 47,
   "metadata": {},
   "outputs": [],
   "source": [
    "with open(os.path.join(folder_name, screenplay_name)) as f : \n",
    "    screenplay = f.read()\n",
    "lines = screenplay.split(\"\\n\")"
   ]
  },
  {
   "cell_type": "code",
   "execution_count": 48,
   "metadata": {},
   "outputs": [],
   "source": [
    "EMPTY_LINE_LABEL = \"E\"\n",
    "SCENES_BOUNDARY_AND_DESCRIPTION_LABEL = \"SN\"\n",
    "SCENES_BOUNDARY_LABEL = \"S\"\n",
    "SCENES_DESCRIPTION_LABEL = \"N\"\n",
    "CHARACTER_LABEL = \"C\"\n",
    "DIALOGUE_LABEL = \"D\"\n",
    "METADATA_LABEL = \"M\"\n",
    "\n",
    "correspondance = {\"E\": \"empty lines\", \"SN\":\"scenes (boundary and description)\", \"S\":\"scenes boundary\", \"N\":\"scenes description\", \"C\":\"character names\", \"D\":\"dialogues\", \"M\":\"metadata\", \"?\":\"unknown\"}"
   ]
  },
  {
   "cell_type": "code",
   "execution_count": 49,
   "metadata": {},
   "outputs": [],
   "source": [
    "CHARACTER_KEYWORDS = [\"(O.S.)\",\"(CONT'D)\", \"(0.S.)\", \"(O. S.)\", \"(0. S.)\", \"(V.O.)\"]\n",
    "BEGINNING_SCENES_KEYWORDS = [\"EXT \", \"EXT.\", \"INT \", \"INT.\"]\n",
    "ENDING_SCENES_KEYWORDS = [\"FADE IN\", \"FADE INTO\", \"CUT TO\", \"DISSOLVE TO\"]\n",
    "META_KEYWORDS = [\"(\", \")\"]\n",
    "DIALOGUE_KEYWORDS = [\"?\"]\n",
    "\n",
    "def get_indents_list(lines):\n",
    "    indents = []\n",
    "    for line in lines:\n",
    "        len_line_with_no_left_spaces = len(line.lstrip())\n",
    "        if len_line_with_no_left_spaces == 0 :  # the line only had spaces\n",
    "            indents.append(-1)\n",
    "        else : \n",
    "            indents.append(len(line) - len_line_with_no_left_spaces)\n",
    "    return indents\n",
    "\n",
    "def find_scenes(lines, beginning_scenes_keywords = BEGINNING_SCENES_KEYWORDS, end_scenes_keywords = ENDING_SCENES_KEYWORDS): \n",
    "    scenes = []\n",
    "    current_scene = []\n",
    "    for line in lines : \n",
    "        has_keyword = False\n",
    "        for keyword in beginning_scenes_keywords + end_scenes_keywords : \n",
    "            if keyword in line : \n",
    "                if keyword in beginning_scenes_keywords : \n",
    "                    scenes.append(current_scene)\n",
    "                    current_scene = [line]\n",
    "                    has_keyword = True\n",
    "                    break\n",
    "                elif keyword in end_scenes_keywords : \n",
    "                    current_scene.append(line)\n",
    "                    scenes.append(current_scene)\n",
    "                    current_scene = []\n",
    "                    has_keyword = True\n",
    "                    break\n",
    "        if not has_keyword : \n",
    "            current_scene.append(line)\n",
    "    scenes.append(current_scene)\n",
    "    return clean_scenes(scenes)\n",
    "\n",
    "def clean_scenes(scenes):\n",
    "    cleaned_scenes = []\n",
    "    for scene in scenes : \n",
    "        if len(''.join(scene)) == 0 and len(cleaned_scenes) > 0 : \n",
    "            cleaned_scenes[-1] += scene\n",
    "        else :     \n",
    "            cleaned_scenes.append(scene)\n",
    "    return cleaned_scenes\n",
    "\n",
    "def occurences_keywords_in_groups(groups, keywords):\n",
    "    groups_keyword_quantity = [0 for _ in range(len(groups))]\n",
    "    for i, group in enumerate(groups) : \n",
    "        group_text = ''.join(group)\n",
    "        for keyword in keywords:\n",
    "            groups_keyword_quantity[i] += group_text.count(keyword)\n",
    "    return groups_keyword_quantity\n",
    "\n",
    "def frequency_capitalized_in_groups(groups):\n",
    "    groups_upper_quantity = [0 for _ in range(len(groups))]\n",
    "    for i, group in enumerate(groups) : \n",
    "        group_text = ''.join(group)\n",
    "        total_letters = sum((letter.isupper() or letter.islower()) for letter in group_text)\n",
    "        if total_letters != 0 : \n",
    "            groups_upper_quantity[i] += round(sum(letter.isupper() for letter in group_text)/total_letters, 2)\n",
    "        else : \n",
    "            groups_upper_quantity[i] = 0\n",
    "    return groups_upper_quantity\n",
    "\n",
    "def mean_text_length_in_groups(groups):\n",
    "    groups_text_length = []\n",
    "    for i, group in enumerate(groups) : \n",
    "        groups_text_length.append(round(sum([len(line.lstrip()) for line in group])/len(group), 2))\n",
    "    return groups_text_length"
   ]
  },
  {
   "cell_type": "code",
   "execution_count": 50,
   "metadata": {},
   "outputs": [],
   "source": [
    "def print_several_lists(list_labels, lists):\n",
    "    maximum_length = max([max([len(str(element)) for element in sublist]) for sublist in lists])\n",
    "    for i, sublist in enumerate(lists):\n",
    "        string = f\"{list_labels[i]} : [\"\n",
    "        for element in sublist : \n",
    "            string += \" \" * (maximum_length - len(str(element))) + str(element) + \", \"\n",
    "        string += \"]\"\n",
    "        print(string)\n",
    "\n",
    "def characterize_indent_levels(lines, indents):\n",
    "    indents_counter = Counter(indents)\n",
    "    relevant_indent_levels = []\n",
    "    for indent_level in indents_counter : \n",
    "        if indents_counter[indent_level] > 10 : \n",
    "            relevant_indent_levels.append(indent_level)\n",
    "    groups = []\n",
    "    for indent_level in relevant_indent_levels : \n",
    "        lines_idxs = np.where(np.array(indents) ==indent_level)[0]\n",
    "        group_lines = [lines[lines_idxs[i]] for i in range(len(lines_idxs))]\n",
    "        groups.append(group_lines)\n",
    "    \n",
    "    mean_text_lengths = mean_text_length_in_groups(groups)\n",
    "    capitalized_frequency = frequency_capitalized_in_groups(groups)\n",
    "    characters_keywords_occurences = occurences_keywords_in_groups(groups, CHARACTER_KEYWORDS)\n",
    "    scenes_beginning_keywords_occurences = occurences_keywords_in_groups(groups, BEGINNING_SCENES_KEYWORDS)\n",
    "    scenes_ending_keywords_occurences = occurences_keywords_in_groups(groups, ENDING_SCENES_KEYWORDS)\n",
    "    meta_keywords_occurences = occurences_keywords_in_groups(groups, META_KEYWORDS)\n",
    "    dialogues_keywords_occurences = occurences_keywords_in_groups(groups, DIALOGUE_KEYWORDS)\n",
    "    \n",
    "    \n",
    "    result = {}\n",
    "\n",
    "    for i, group in enumerate(groups) : \n",
    "        if relevant_indent_levels[i] == -1 : \n",
    "            result[relevant_indent_levels[i]] = EMPTY_LINE_LABEL\n",
    "        elif characters_keywords_occurences[i] > 0 :\n",
    "            result[relevant_indent_levels[i]] = CHARACTER_LABEL\n",
    "        elif scenes_beginning_keywords_occurences[i] > 0 : \n",
    "            result[relevant_indent_levels[i]] = SCENES_BOUNDARY_AND_DESCRIPTION_LABEL\n",
    "        elif scenes_ending_keywords_occurences[i]/len(group) > 0.8 : \n",
    "            result[relevant_indent_levels[i]] = SCENES_BOUNDARY_LABEL\n",
    "        elif capitalized_frequency[i] > 0.9 and mean_text_lengths[i] < 10 :\n",
    "            result[relevant_indent_levels[i]] = CHARACTER_LABEL\n",
    "        elif meta_keywords_occurences[i] / len(group) > 1.0 : # usually two parenthesis per line, one is the minimum\n",
    "            result[relevant_indent_levels[i]] = METADATA_LABEL\n",
    "        elif dialogues_keywords_occurences[i] > 0 : \n",
    "            result[relevant_indent_levels[i]] = DIALOGUE_LABEL\n",
    "        else : \n",
    "            result[relevant_indent_levels[i]] = \"?\"\n",
    "    \n",
    "    all_lists = [\n",
    "        relevant_indent_levels, \n",
    "        result.values(),\n",
    "        [len(group) for group in groups],\n",
    "        characters_keywords_occurences,\n",
    "        capitalized_frequency,\n",
    "        mean_text_lengths,\n",
    "        scenes_beginning_keywords_occurences,\n",
    "        scenes_ending_keywords_occurences,\n",
    "        meta_keywords_occurences,\n",
    "        dialogues_keywords_occurences,\n",
    "        ]\n",
    "    print_several_lists([\"I\",  \"R\", \"L\", \"C\", \"C\", \"L\", \"S\", \"S\", \"M\", \"D\",], all_lists)\n",
    "\n",
    "    return result\n",
    "\n",
    "def tag_lines(list_lines, characterized_indent_levels):\n",
    "    indents = get_indents_list(list_lines)\n",
    "    tags = []\n",
    "    for i, line in enumerate(list_lines):\n",
    "        if (\n",
    "            characterized_indent_levels[indents[i]]\n",
    "            == SCENES_BOUNDARY_AND_DESCRIPTION_LABEL\n",
    "        ):\n",
    "            if frequency_capitalized_in_groups([line])[0] > 0.8:\n",
    "                tags.append(SCENES_BOUNDARY_LABEL)\n",
    "            else:\n",
    "                tags.append(SCENES_DESCRIPTION_LABEL)\n",
    "        else:\n",
    "            tags.append(characterized_indent_levels[indents[i]])\n",
    "    return tags"
   ]
  },
  {
   "cell_type": "code",
   "execution_count": 51,
   "metadata": {},
   "outputs": [
    {
     "name": "stdout",
     "output_type": "stream",
     "text": [
      "Found 222 scenes\n",
      "Counter({10: 4188, -1: 2767, 25: 1073, 11: 63, 26: 25, 0: 4, 34: 2, 35: 1, 32: 1, 22: 1})\n",
      "Syriana.txt\n"
     ]
    },
    {
     "data": {
      "image/png": "[encoded data removed]",
      "text/plain": [
       "<Figure size 640x480 with 1 Axes>"
      ]
     },
     "metadata": {},
     "output_type": "display_data"
    }
   ],
   "source": [
    "scenes = find_scenes(lines)\n",
    "print(f\"Found {len(scenes)} scenes\")\n",
    "indents = get_indents_list(lines)\n",
    "if len(scenes) > 2:\n",
    "    middle_indents = indents[len(scenes[0]) : -len(scenes[-1])]\n",
    "    middle_lines = sum(scenes[1:-1], [])\n",
    "else:\n",
    "    middle_indents = indents\n",
    "    middle_lines = lines\n",
    "plt.hist(indents, bins = max(indents) + 1, log=True)\n",
    "\n",
    "print(Counter(indents))\n",
    "print(screenplay_name)"
   ]
  },
  {
   "cell_type": "code",
   "execution_count": 52,
   "metadata": {},
   "outputs": [
    {
     "name": "stdout",
     "output_type": "stream",
     "text": [
      "I : [   10,    -1,    25,    26,    11, ]\n",
      "R : [    C,     E,     C,     C,     C, ]\n",
      "L : [ 4182,  2723,  1069,    25,    63, ]\n",
      "C : [   70,     0,    86,    10,     9, ]\n",
      "C : [ 0.14,     0,   1.0,   1.0,  0.24, ]\n",
      "L : [34.72,   0.0,  8.61, 12.12, 36.78, ]\n",
      "S : [  204,     0,     0,     0,     0, ]\n",
      "S : [    6,     0,    82,     7,     0, ]\n",
      "M : [  282,     0,   592,    28,    28, ]\n",
      "D : [  213,     0,     0,     0,     0, ]\n"
     ]
    }
   ],
   "source": [
    "characterized_indent_levels = characterize_indent_levels(middle_lines, middle_indents)"
   ]
  },
  {
   "cell_type": "code",
   "execution_count": null,
   "metadata": {},
   "outputs": [
    {
     "ename": "",
     "evalue": "",
     "output_type": "error",
     "traceback": [
      "\u001b[1;31mLes cellules en cours d’exécution avec Python 3.10.8 64-bit nécessitent ipykernel package.\n",
      "\u001b[1;31mExécutez la commande suivante pour installer 'ipykernel' dans l’environnement Python. \n",
      "\u001b[1;31mCommande : '/usr/local/bin/python3 -m pip install ipykernel -U --user --force-reinstall'"
     ]
    }
   ],
   "source": [
    "for key, value in characterized_indent_levels.items():\n",
    "    if value != EMPTY_LINE_LABEL:\n",
    "        print(f\"\\n****** {correspondance[value].upper()} ******\")\n",
    "        lines_idxs = np.where(np.array(middle_indents) ==key)[0]\n",
    "        for i in range(min(6, len(lines_idxs))):\n",
    "            print(middle_lines[lines_idxs[i]])"
   ]
  }
 ],
 "metadata": {
  "kernelspec": {
   "display_name": "Python 3.10.8 64-bit",
   "language": "python",
   "name": "python3"
  },
  "language_info": {
   "codemirror_mode": {
    "name": "ipython",
    "version": 3
   },
   "file_extension": ".py",
   "mimetype": "text/x-python",
   "name": "python",
   "nbconvert_exporter": "python",
   "pygments_lexer": "ipython3",
   "version": "3.10.8"
  },
  "orig_nbformat": 4,
  "vscode": {
   "interpreter": {
    "hash": "aee8b7b246df8f9039afb4144a1f6fd8d2ca17a180786b69acc140d282b71a49"
   }
  }
 },
 "nbformat": 4,
 "nbformat_minor": 2
}
