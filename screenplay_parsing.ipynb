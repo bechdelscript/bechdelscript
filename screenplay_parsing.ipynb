{
 "cells": [
  {
   "cell_type": "code",
   "execution_count": 346,
   "metadata": {},
   "outputs": [],
   "source": [
    "import os\n",
    "from random import choice, seed\n",
    "from tqdm import tqdm\n",
    "import matplotlib.pyplot as plt \n",
    "import numpy as np\n",
    "from collections import Counter\n",
    "\n",
    "# seed(42)\n",
    "folder_name = \"data/input/scripts_imsdb\"\n",
    "screenplay_name = choice(os.listdir(folder_name))"
   ]
  },
  {
   "cell_type": "code",
   "execution_count": 347,
   "metadata": {},
   "outputs": [],
   "source": [
    "with open(os.path.join(folder_name, screenplay_name)) as f : \n",
    "    screenplay = f.read()\n",
    "lines = screenplay.split(\"\\n\")"
   ]
  },
  {
   "cell_type": "code",
   "execution_count": 348,
   "metadata": {},
   "outputs": [],
   "source": [
    "EMPTY_LINE_LABEL = \"E\"\n",
    "SCENES_BOUNDARY_AND_DESCRIPTION_LABEL = \"SN\"\n",
    "SCENES_BOUNDARY_LABEL = \"S\"\n",
    "SCENES_DESCRIPTION_LABEL = \"N\"\n",
    "CHARACTER_LABEL = \"C\"\n",
    "DIALOGUE_LABEL = \"D\"\n",
    "METADATA_LABEL = \"M\""
   ]
  },
  {
   "cell_type": "code",
   "execution_count": 349,
   "metadata": {},
   "outputs": [],
   "source": [
    "CHARACTER_KEYWORDS = [\"(O.S.)\",\"(CONT'D)\", \"(0.S.)\", \"(O. S.)\", \"(0. S.)\", \"(V.O.)\"]\n",
    "BEGINNING_SCENES_KEYWORDS = [\"EXT \", \"EXT.\", \"INT \", \"INT.\"]\n",
    "ENDING_SCENES_KEYWORDS = [\"FADE IN\", \"FADE INTO\", \"CUT TO\", \"DISSOLVE TO\"]\n",
    "META_KEYWORDS = [\"(\", \")\"]\n",
    "DIALOGUE_KEYWORDS = [\"?\"]\n",
    "\n",
    "def get_indent_histogram(lines):\n",
    "    indents = []\n",
    "    for line in lines:\n",
    "        len_line_with_no_left_spaces = len(line.lstrip())\n",
    "        if len_line_with_no_left_spaces == 0 :  # the line only had spaces\n",
    "            indents.append(-1)\n",
    "        else : \n",
    "            indents.append(len(line) - len_line_with_no_left_spaces)\n",
    "    return indents\n",
    "\n",
    "def find_scenes(lines, beginning_scenes_keywords = BEGINNING_SCENES_KEYWORDS, end_scenes_keywords = ENDING_SCENES_KEYWORDS): \n",
    "    scenes = []\n",
    "    current_scene = []\n",
    "    for line in lines : \n",
    "        has_keyword = False\n",
    "        for keyword in beginning_scenes_keywords + end_scenes_keywords : \n",
    "            if keyword in line : \n",
    "                if keyword in beginning_scenes_keywords : \n",
    "                    scenes.append(current_scene)\n",
    "                    current_scene = [line]\n",
    "                    has_keyword = True\n",
    "                    break\n",
    "                elif keyword in end_scenes_keywords : \n",
    "                    current_scene.append(line)\n",
    "                    scenes.append(current_scene)\n",
    "                    current_scene = []\n",
    "                    has_keyword = True\n",
    "                    break\n",
    "        if not has_keyword : \n",
    "            current_scene.append(line)\n",
    "    scenes.append(current_scene)\n",
    "    return clean_scenes(scenes)\n",
    "\n",
    "def clean_scenes(scenes):\n",
    "    cleaned_scenes = []\n",
    "    for scene in scenes : \n",
    "        if len(''.join(scene)) > 0 : \n",
    "            cleaned_scenes.append(scene)\n",
    "    return cleaned_scenes\n",
    "\n",
    "def occurences_keywords_in_groups(groups, keywords):\n",
    "    groups_keyword_quantity = [0 for _ in range(len(groups))]\n",
    "    for i, group in enumerate(groups) : \n",
    "        group_text = ''.join(group)\n",
    "        for keyword in keywords:\n",
    "            groups_keyword_quantity[i] += group_text.count(keyword)\n",
    "    return groups_keyword_quantity\n",
    "\n",
    "def frequency_capitalized_in_groups(groups):\n",
    "    groups_upper_quantity = [0 for _ in range(len(groups))]\n",
    "    for i, group in enumerate(groups) : \n",
    "        group_text = ''.join(group)\n",
    "        total_letters = sum((letter.isupper() or letter.islower()) for letter in group_text)\n",
    "        if total_letters != 0 : \n",
    "            groups_upper_quantity[i] += round(sum(letter.isupper() for letter in group_text)/total_letters, 2)\n",
    "        else : \n",
    "            groups_upper_quantity[i] = 0\n",
    "    return groups_upper_quantity\n",
    "\n",
    "def mean_text_length_in_groups(groups):\n",
    "    groups_text_length = []\n",
    "    for i, group in enumerate(groups) : \n",
    "        groups_text_length.append(round(sum([len(line.lstrip()) for line in group])/len(group), 2))\n",
    "    return groups_text_length"
   ]
  },
  {
   "cell_type": "code",
   "execution_count": 350,
   "metadata": {},
   "outputs": [
    {
     "name": "stdout",
     "output_type": "stream",
     "text": [
      "Counter({-1: 2161, 10: 1644, 0: 1503, 20: 648, 13: 254, 23: 165, 14: 120, 21: 61, 22: 50, 9: 40, 61: 34, 53: 27, 52: 26, 12: 25, 11: 23, 60: 21, 24: 21, 62: 16, 19: 14, 17: 12, 58: 11, 51: 10, 54: 10, 15: 9, 25: 9, 50: 9, 56: 9, 63: 9, 55: 9, 26: 9, 57: 9, 59: 8, 64: 8, 16: 4, 49: 3, 18: 2, 66: 2, 65: 2, 7: 1, 8: 1, 33: 1, 43: 1, 32: 1, 28: 1, 31: 1, 70: 1, 27: 1, 29: 1})\n",
      "Confessions-of-a-Dangerous-Mind.txt\n"
     ]
    },
    {
     "data": {
      "image/png": "[encoded data removed]",
      "text/plain": [
       "<Figure size 640x480 with 1 Axes>"
      ]
     },
     "metadata": {},
     "output_type": "display_data"
    }
   ],
   "source": [
    "indents = get_indent_histogram(lines)\n",
    "plt.hist(indents, bins = max(indents) + 1, log=True)\n",
    "\n",
    "print(Counter(indents))\n",
    "print(screenplay_name)"
   ]
  },
  {
   "cell_type": "code",
   "execution_count": 351,
   "metadata": {},
   "outputs": [
    {
     "name": "stdout",
     "output_type": "stream",
     "text": [
      "Found 217 scenes\n",
      "Counter({-1: 1940, 10: 1525, 0: 1326, 20: 620, 13: 170, 23: 136, 14: 108, 21: 60, 22: 46, 9: 40, 61: 33, 53: 25, 52: 25, 11: 23, 60: 19, 12: 15, 19: 14, 24: 14, 62: 12, 58: 10, 54: 10, 26: 9, 56: 8, 51: 8, 63: 8, 55: 8, 50: 8, 59: 7, 17: 7, 57: 7, 64: 7, 15: 6, 25: 5, 49: 3, 66: 2, 16: 2, 65: 2, 18: 1, 32: 1, 28: 1, 31: 1, 70: 1, 27: 1})\n",
      "Confessions-of-a-Dangerous-Mind.txt\n"
     ]
    },
    {
     "data": {
      "image/png": "[encoded data removed]",
      "text/plain": [
       "<Figure size 640x480 with 1 Axes>"
      ]
     },
     "metadata": {},
     "output_type": "display_data"
    }
   ],
   "source": [
    "scenes = find_scenes(lines)\n",
    "print(f\"Found {len(scenes)} scenes\")\n",
    "if len(scenes) > 3 : \n",
    "    cutable = min(len(scenes)//2 -1, 10)\n",
    "    middle_lines = sum([scene for scene in scenes[cutable:-cutable]], [])\n",
    "else : \n",
    "    middle_lines = sum(scenes, [])\n",
    "indents = get_indent_histogram(middle_lines)\n",
    "plt.hist(indents, bins = max(indents) + 1, log=True)\n",
    "\n",
    "print(Counter(indents))\n",
    "print(screenplay_name)"
   ]
  },
  {
   "cell_type": "code",
   "execution_count": 372,
   "metadata": {},
   "outputs": [],
   "source": [
    "def print_several_lists(list_labels, lists):\n",
    "    maximum_length = max([max([len(str(element)) for element in sublist]) for sublist in lists])\n",
    "    for i, sublist in enumerate(lists):\n",
    "        string = f\"{list_labels[i]} : [\"\n",
    "        for element in sublist : \n",
    "            string += \" \" * (maximum_length - len(str(element))) + str(element) + \", \"\n",
    "        string += \"]\"\n",
    "        print(string)\n",
    "\n",
    "def characterize_indent_levels(lines, indents):\n",
    "    indents_counter = Counter(indents)\n",
    "    relevant_indent_levels = []\n",
    "    for indent_level in indents_counter : \n",
    "        if indents_counter[indent_level] > 10 : \n",
    "            relevant_indent_levels.append(indent_level)\n",
    "    groups = []\n",
    "    for indent_level in relevant_indent_levels : \n",
    "        lines_idxs = np.where(np.array(indents) ==indent_level)[0]\n",
    "        group_lines = [lines[lines_idxs[i]] for i in range(len(lines_idxs))]\n",
    "        groups.append(group_lines)\n",
    "    \n",
    "    mean_text_lengths = mean_text_length_in_groups(groups)\n",
    "    capitalized_frequency = frequency_capitalized_in_groups(groups)\n",
    "    characters_keywords_occurences = occurences_keywords_in_groups(groups, CHARACTER_KEYWORDS)\n",
    "    scenes_beginning_keywords_occurences = occurences_keywords_in_groups(groups, BEGINNING_SCENES_KEYWORDS)\n",
    "    scenes_ending_keywords_occurences = occurences_keywords_in_groups(groups, ENDING_SCENES_KEYWORDS)\n",
    "    meta_keywords_occurences = occurences_keywords_in_groups(groups, META_KEYWORDS)\n",
    "    dialogues_keywords_occurences = occurences_keywords_in_groups(groups, DIALOGUE_KEYWORDS)\n",
    "    \n",
    "    \n",
    "    result = {}\n",
    "\n",
    "    for i, group in enumerate(groups) : \n",
    "        if relevant_indent_levels[i] == -1 : \n",
    "            result[relevant_indent_levels[i]] = EMPTY_LINE_LABEL\n",
    "        elif characters_keywords_occurences[i] > 0 :\n",
    "            result[relevant_indent_levels[i]] = CHARACTER_LABEL\n",
    "        elif scenes_beginning_keywords_occurences[i] > 0 : \n",
    "            result[relevant_indent_levels[i]] = SCENES_BOUNDARY_AND_DESCRIPTION_LABEL\n",
    "        elif scenes_ending_keywords_occurences[i]/len(group) > 0.8 : \n",
    "            result[relevant_indent_levels[i]] = SCENES_BOUNDARY_LABEL\n",
    "        elif capitalized_frequency[i] > 0.9 and mean_text_lengths[i] < 10 :\n",
    "            result[relevant_indent_levels[i]] = CHARACTER_LABEL\n",
    "        elif meta_keywords_occurences[i] / len(group) > 1.0 : # usually two parenthesis per line, one is the minimum\n",
    "            result[relevant_indent_levels[i]] = METADATA_LABEL\n",
    "        elif dialogues_keywords_occurences[i] > 0 : \n",
    "            result[relevant_indent_levels[i]] = DIALOGUE_LABEL\n",
    "        else : \n",
    "            result[relevant_indent_levels[i]] = \"?\"\n",
    "    \n",
    "    all_lists = [\n",
    "        relevant_indent_levels, \n",
    "        [len(group) for group in groups],\n",
    "        characters_keywords_occurences,\n",
    "        capitalized_frequency,\n",
    "        mean_text_lengths,\n",
    "        scenes_beginning_keywords_occurences,\n",
    "        scenes_ending_keywords_occurences,\n",
    "        meta_keywords_occurences,\n",
    "        dialogues_keywords_occurences,\n",
    "        result.values()\n",
    "        ]\n",
    "    print_several_lists([\"I\", \"L\", \"C\", \"C\", \"L\", \"S\", \"S\", \"M\", \"D\", \"R\"], all_lists)"
   ]
  },
  {
   "cell_type": "code",
   "execution_count": 373,
   "metadata": {},
   "outputs": [
    {
     "name": "stdout",
     "output_type": "stream",
     "text": [
      "I : [    0,    -1,    20,    10,    53,    61,    23,    52,    62,    13,    21,    14,    22,    60,    19,     9,    24,    11,    12, ]\n",
      "L : [ 1326,  1940,   620,  1525,    25,    33,   136,    25,    12,   170,    60,   108,    46,    19,    14,    40,    14,    23,    15, ]\n",
      "C : [    0,     0,    75,     0,     0,     0,    18,     0,     0,     0,     5,     0,     2,     0,     0,     0,     1,     0,     0, ]\n",
      "C : [ 0.15,     0,   1.0,  0.06,   1.0,     0,   1.0,   1.0,     0,  0.07,   1.0,  0.01,   1.0,     0,  0.91,  0.07,   1.0,  0.08,  0.05, ]\n",
      "L : [42.62,   0.0,  8.02, 28.58,  11.0,  3.03,  8.23, 11.16,   3.0, 27.98,  7.63, 13.72,  7.67,  3.11,  5.64, 30.25,  6.71, 30.43,  23.2, ]\n",
      "S : [  196,     0,     0,     0,     0,     0,     0,     0,     0,     0,     0,     0,     0,     0,     0,     0,     0,     0,     0, ]\n",
      "S : [    0,     0,     0,     0,     0,     0,     0,     4,     0,     0,     0,     0,     0,     0,     0,     0,     0,     0,     0, ]\n",
      "M : [   34,     0,   162,     0,    50,     0,    46,    42,     0,     8,    12,   214,     4,     0,     0,     2,     2,     0,     0, ]\n",
      "D : [    2,     0,     0,   238,     0,     0,     0,     0,     0,    31,     0,     0,     0,     0,     0,     5,     0,     8,     1, ]\n",
      "R : [   SN,     E,     C,     D,     M,     ?,     C,     M,     ?,     D,     C,     M,     C,     ?,     C,     D,     C,     D,     D, ]\n"
     ]
    }
   ],
   "source": [
    "characterize_indent_levels(middle_lines, indents)"
   ]
  },
  {
   "cell_type": "code",
   "execution_count": 379,
   "metadata": {},
   "outputs": [
    {
     "name": "stdout",
     "output_type": "stream",
     "text": [
      "15\n",
      "            Well...\n",
      "            Jesus, she's gotta pick this guy.   This\n",
      "            is just too good.\n",
      "            ... I'll ask her what she likes to do and\n",
      "            --\n",
      "            Ready one, take one.   Ready two, take\n",
      "            two.\n",
      "            And if she doesn't know what she likes to\n",
      "            do --\n",
      "            Ready three, take three. The only date\n",
      "            he's ever had is with his right hand.\n",
      "            ... then I'll know she hasn't done it\n",
      "            yet.\n",
      "            Excuse me, is this seat taken?\n",
      "            By you.\n"
     ]
    }
   ],
   "source": [
    "lines_idxs = np.where(np.array(indents) ==12)[0]\n",
    "print(len(lines_idxs))\n",
    "for i in range(len(lines_idxs)):\n",
    "    print(middle_lines[lines_idxs[i]])"
   ]
  }
 ],
 "metadata": {
  "kernelspec": {
   "display_name": "Python 3.10.4 64-bit ('bechdel')",
   "language": "python",
   "name": "python3"
  },
  "language_info": {
   "codemirror_mode": {
    "name": "ipython",
    "version": 3
   },
   "file_extension": ".py",
   "mimetype": "text/x-python",
   "name": "python",
   "nbconvert_exporter": "python",
   "pygments_lexer": "ipython3",
   "version": "3.10.4"
  },
  "orig_nbformat": 4,
  "vscode": {
   "interpreter": {
    "hash": "8d9cce9246f3aac830054641b24cba55d1d984e45ad6aea5e5dde19fe73fb827"
   }
  }
 },
 "nbformat": 4,
 "nbformat_minor": 2
}
