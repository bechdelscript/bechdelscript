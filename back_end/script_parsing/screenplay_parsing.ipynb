{
 "cells": [
  {
   "cell_type": "code",
   "execution_count": 1,
   "metadata": {},
   "outputs": [],
   "source": [
    "import os\n",
    "from random import choice, seed\n",
    "import matplotlib.pyplot as plt \n",
    "import numpy as np\n",
    "from naive_parsing import *\n",
    "from typing import List, Tuple\n",
    "\n",
    "folder_name = \"./../data/input/scripts_imsdb\"\n",
    "screenplay_name = choice(os.listdir(folder_name))\n",
    "script_path = os.path.join(folder_name, screenplay_name)"
   ]
  },
  {
   "cell_type": "code",
   "execution_count": 3,
   "metadata": {},
   "outputs": [],
   "source": [
    "def tag_script_modified_to_study_results(script_path: str, extract = False) -> Tuple[List[List[str]], List[label]]:\n",
    "    \"\"\"Assign a label to each line of a script.\n",
    "\n",
    "    Args:\n",
    "        script_path (str): path of the script\n",
    "\n",
    "    Returns:\n",
    "        Tuple[List[List[str]], List[label]]: First element of the tuple is\n",
    "            a list of scenes, each scene being a list of lines. The second\n",
    "            element returned is the list of labels for each line.\n",
    "    \"\"\"\n",
    "    with open(script_path) as f:\n",
    "        screenplay = f.read()\n",
    "\n",
    "    lines = screenplay.split(\"\\n\")\n",
    "    scenes = find_scenes(lines)\n",
    "\n",
    "    indents = get_indents_list(lines)\n",
    "    plt.hist(indents, bins = max(indents) + 1, log=True)\n",
    "    plt.show()\n",
    "    # We remove the first and last scenes (which often contain the title of\n",
    "    # the movie etc.), then we assign a label to each indent level\n",
    "    if len(scenes) > 2:\n",
    "        middle_indents = indents[len(scenes[0]) : -len(scenes[-1])]\n",
    "        middle_lines = sum(scenes[1:-1], [])\n",
    "    else:\n",
    "        middle_indents = indents\n",
    "        middle_lines = lines\n",
    "\n",
    "    characterized_indent_levels = characterize_indent_levels(\n",
    "        middle_lines, middle_indents, print_details=True\n",
    "    )\n",
    "    tags = []\n",
    "    for scene in scenes:\n",
    "        tags.append(tag_lines(scene, characterized_indent_levels))\n",
    "\n",
    "    if extract : \n",
    "        print_extract_of_each_indent_level(characterized_indent_levels, middle_lines, middle_indents)\n",
    "\n",
    "    return lines, characterized_indent_levels, indents\n",
    "\n",
    "def print_extract_of_each_indent_level(characterized_indent_levels, lines, indents, length=6):\n",
    "    for key, value in characterized_indent_levels.items():\n",
    "        if value != label.EMPTY_LINE:\n",
    "            print(f\"\\n****** {value.name} | {key} ******\")\n",
    "            lines_idxs = np.where(np.array(indents) ==key)[0]\n",
    "            for i in range(min(length, len(lines_idxs))):\n",
    "                print(lines[lines_idxs[i]])\n"
   ]
  },
  {
   "cell_type": "code",
   "execution_count": 7,
   "metadata": {},
   "outputs": [
    {
     "name": "stdout",
     "output_type": "stream",
     "text": [
      "Big-Lebowski,-The.txt\n"
     ]
    },
    {
     "data": {
      "image/png": "[encoded data removed]",
      "text/plain": [
       "<Figure size 640x480 with 1 Axes>"
      ]
     },
     "metadata": {},
     "output_type": "display_data"
    },
    {
     "name": "stdout",
     "output_type": "stream",
     "text": [
      "In : [   -1,     0,     4,     2,     3,     7,     6, ]\n",
      "Re : [    E,     D,     C,     D,     M,     S,     S, ]\n",
      "Le : [  0.0, 40.81,  5.46, 27.26,  9.92,  31.0,  34.0, ]\n",
      "Nb : [ 1315,   948,   778,  1520,    12,     1,     1, ]\n",
      "Ca : [    0,  0.08,   1.0,   0.1,  0.02,   1.0,   1.0, ]\n",
      "Ch : [    0,     0,     0,     0,     0,     0,     0, ]\n",
      "SB : [    0,     0,     0,     0,     0,     0,     0, ]\n",
      "SE : [    0,     4,     0,     0,     0,     1,     1, ]\n",
      "Me : [    0,     0,     0,     0,    12,     0,     0, ]\n",
      "Di : [    0,     1,     0,   238,     0,     0,     0, ]\n",
      "\n",
      "****** DIALOGUE | 0 ******\n",
      "Displaying great slow-motion form as the Dude and Walter's \n",
      "conversation continues over.\n",
      "FLASHBACK\n",
      "We see Quintana, in pressed jeans and a stretchy sweater,  \n",
      "walking up a stoop in a residential neighborhood and zinging \n",
      "the bell.\n",
      "\n",
      "****** CHARACTER | 4 ******\n",
      "\t\t\t\tWALTER\n",
      "\t\t\t\tDUDE\n",
      "\t\t\t\tWALTER\n",
      "\t\t\t\tDUDE\n",
      "\t\t\t\tWALTER\n",
      "\t\t\t\tDONNY\n",
      "\n",
      "****** DIALOGUE | 2 ******\n",
      "\t\tYeah, but he's a fucking pervert, \n",
      "\t\tDude.\n",
      "\t\tHuh?\n",
      "\t\tThe man is a sex offender.  With a \n",
      "\t\trecord.  Spent six months in Chino \n",
      "\t\tfor exposing himself to an eight-\n",
      "\n",
      "****** METADATA | 3 ******\n",
      "\t\t\t(German accent)\n",
      "\t\t\t(Beat)\n",
      "\t\t\t(patronizing)\n",
      "\t\t\t(grimly)\n",
      "\t\t\t(quietly)\n",
      "\t\t\t(bitterly)\n",
      "\n",
      "****** SCENES_BOUNDARY | 7 ******\n",
      "\t\t\t\t\t  ON A DEAFENING CRASH WE CUT TO:\n",
      "\n",
      "****** SCENES_BOUNDARY | 6 ******\n",
      "\t\t\t\t\t THOOMP!  ON THE EMBRACE WE CUT TO:\n"
     ]
    }
   ],
   "source": [
    "print(screenplay_name)\n",
    "lines, characterized_indent_levels, indents = tag_script_modified_to_study_results(script_path, extract = True)"
   ]
  },
  {
   "cell_type": "code",
   "execution_count": null,
   "metadata": {},
   "outputs": [],
   "source": [
    "i = 11\n",
    "print_extract_of_each_indent_level({i:characterized_indent_levels[i]}, lines, indents, length=10000)"
   ]
  }
 ],
 "metadata": {
  "kernelspec": {
   "display_name": "Python 3",
   "language": "python",
   "name": "python3"
  },
  "language_info": {
   "codemirror_mode": {
    "name": "ipython",
    "version": 3
   },
   "file_extension": ".py",
   "mimetype": "text/x-python",
   "name": "python",
   "nbconvert_exporter": "python",
   "pygments_lexer": "ipython3",
   "version": "3.10.8 (main, Oct 13 2022, 10:19:13) [Clang 12.0.0 (clang-1200.0.32.29)]"
  },
  "orig_nbformat": 4,
  "vscode": {
   "interpreter": {
    "hash": "aee8b7b246df8f9039afb4144a1f6fd8d2ca17a180786b69acc140d282b71a49"
   }
  }
 },
 "nbformat": 4,
 "nbformat_minor": 2
}
